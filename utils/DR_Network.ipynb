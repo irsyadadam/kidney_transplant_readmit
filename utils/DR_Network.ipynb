{
 "cells": [
  {
   "cell_type": "code",
   "execution_count": 3,
   "metadata": {},
   "outputs": [],
   "source": [
    "#stl\n",
    "import os\n",
    "import warnings\n",
    "\n",
    "#data handling\n",
    "import pandas as pd\n",
    "import numpy as np\n",
    "from tqdm import tqdm_notebook as tqdm\n",
    "import missingno as mso\n",
    "\n",
    "#stats\n",
    "import scipy\n",
    "import sklearn\n",
    "\n",
    "#network\n",
    "import networkx as nx\n",
    "\n",
    "#vis\n",
    "import matplotlib.pyplot as plt\n",
    "import seaborn as sns\n",
    "import os.path as osp\n",
    "import time\n",
    "sns.set(font_scale = 1)\n",
    "sns.set_style(\"whitegrid\")\n",
    "\n",
    "#os\n",
    "import importlib.metadata\n",
    "import json\n",
    "import logging\n",
    "import os\n",
    "import re\n",
    "import tempfile\n",
    "import time\n",
    "import ast\n",
    "from pathlib import Path\n",
    "from typing import Any, Callable, Dict, List, Literal, Optional, Tuple, Type, TypeVar, Union"
   ]
  },
  {
   "cell_type": "code",
   "execution_count": 4,
   "metadata": {},
   "outputs": [
    {
     "name": "stderr",
     "output_type": "stream",
     "text": [
      "\n",
      "A module that was compiled using NumPy 1.x cannot be run in\n",
      "NumPy 2.1.3 as it may crash. To support both 1.x and 2.x\n",
      "versions of NumPy, modules must be compiled with NumPy 2.0.\n",
      "Some module may need to rebuild instead e.g. with 'pybind11>=2.12'.\n",
      "\n",
      "If you are a user of the module, the easiest solution will be to\n",
      "downgrade to 'numpy<2' or try to upgrade the affected module.\n",
      "We expect that some modules will need time to support NumPy 2.\n",
      "\n",
      "Traceback (most recent call last):  File \"<frozen runpy>\", line 198, in _run_module_as_main\n",
      "  File \"<frozen runpy>\", line 88, in _run_code\n",
      "  File \"/opt/miniconda3/envs/pyg_CUDA/lib/python3.11/site-packages/ipykernel_launcher.py\", line 18, in <module>\n",
      "    app.launch_new_instance()\n",
      "  File \"/opt/miniconda3/envs/pyg_CUDA/lib/python3.11/site-packages/traitlets/config/application.py\", line 1075, in launch_instance\n",
      "    app.start()\n",
      "  File \"/opt/miniconda3/envs/pyg_CUDA/lib/python3.11/site-packages/ipykernel/kernelapp.py\", line 739, in start\n",
      "    self.io_loop.start()\n",
      "  File \"/opt/miniconda3/envs/pyg_CUDA/lib/python3.11/site-packages/tornado/platform/asyncio.py\", line 205, in start\n",
      "    self.asyncio_loop.run_forever()\n",
      "  File \"/opt/miniconda3/envs/pyg_CUDA/lib/python3.11/asyncio/base_events.py\", line 608, in run_forever\n",
      "    self._run_once()\n",
      "  File \"/opt/miniconda3/envs/pyg_CUDA/lib/python3.11/asyncio/base_events.py\", line 1936, in _run_once\n",
      "    handle._run()\n",
      "  File \"/opt/miniconda3/envs/pyg_CUDA/lib/python3.11/asyncio/events.py\", line 84, in _run\n",
      "    self._context.run(self._callback, *self._args)\n",
      "  File \"/opt/miniconda3/envs/pyg_CUDA/lib/python3.11/site-packages/ipykernel/kernelbase.py\", line 545, in dispatch_queue\n",
      "    await self.process_one()\n",
      "  File \"/opt/miniconda3/envs/pyg_CUDA/lib/python3.11/site-packages/ipykernel/kernelbase.py\", line 534, in process_one\n",
      "    await dispatch(*args)\n",
      "  File \"/opt/miniconda3/envs/pyg_CUDA/lib/python3.11/site-packages/ipykernel/kernelbase.py\", line 437, in dispatch_shell\n",
      "    await result\n",
      "  File \"/opt/miniconda3/envs/pyg_CUDA/lib/python3.11/site-packages/ipykernel/ipkernel.py\", line 362, in execute_request\n",
      "    await super().execute_request(stream, ident, parent)\n",
      "  File \"/opt/miniconda3/envs/pyg_CUDA/lib/python3.11/site-packages/ipykernel/kernelbase.py\", line 778, in execute_request\n",
      "    reply_content = await reply_content\n",
      "  File \"/opt/miniconda3/envs/pyg_CUDA/lib/python3.11/site-packages/ipykernel/ipkernel.py\", line 449, in do_execute\n",
      "    res = shell.run_cell(\n",
      "  File \"/opt/miniconda3/envs/pyg_CUDA/lib/python3.11/site-packages/ipykernel/zmqshell.py\", line 549, in run_cell\n",
      "    return super().run_cell(*args, **kwargs)\n",
      "  File \"/opt/miniconda3/envs/pyg_CUDA/lib/python3.11/site-packages/IPython/core/interactiveshell.py\", line 3006, in run_cell\n",
      "    result = self._run_cell(\n",
      "  File \"/opt/miniconda3/envs/pyg_CUDA/lib/python3.11/site-packages/IPython/core/interactiveshell.py\", line 3061, in _run_cell\n",
      "    result = runner(coro)\n",
      "  File \"/opt/miniconda3/envs/pyg_CUDA/lib/python3.11/site-packages/IPython/core/async_helpers.py\", line 129, in _pseudo_sync_runner\n",
      "    coro.send(None)\n",
      "  File \"/opt/miniconda3/envs/pyg_CUDA/lib/python3.11/site-packages/IPython/core/interactiveshell.py\", line 3266, in run_cell_async\n",
      "    has_raised = await self.run_ast_nodes(code_ast.body, cell_name,\n",
      "  File \"/opt/miniconda3/envs/pyg_CUDA/lib/python3.11/site-packages/IPython/core/interactiveshell.py\", line 3445, in run_ast_nodes\n",
      "    if await self.run_code(code, result, async_=asy):\n",
      "  File \"/opt/miniconda3/envs/pyg_CUDA/lib/python3.11/site-packages/IPython/core/interactiveshell.py\", line 3505, in run_code\n",
      "    exec(code_obj, self.user_global_ns, self.user_ns)\n",
      "  File \"/var/folders/_j/j2sjmt9d463_99fblhh7k7540000gn/T/ipykernel_27535/2710516071.py\", line 1, in <module>\n",
      "    import torch\n",
      "  File \"/opt/miniconda3/envs/pyg_CUDA/lib/python3.11/site-packages/torch/__init__.py\", line 1477, in <module>\n",
      "    from .functional import *  # noqa: F403\n",
      "  File \"/opt/miniconda3/envs/pyg_CUDA/lib/python3.11/site-packages/torch/functional.py\", line 9, in <module>\n",
      "    import torch.nn.functional as F\n",
      "  File \"/opt/miniconda3/envs/pyg_CUDA/lib/python3.11/site-packages/torch/nn/__init__.py\", line 1, in <module>\n",
      "    from .modules import *  # noqa: F403\n",
      "  File \"/opt/miniconda3/envs/pyg_CUDA/lib/python3.11/site-packages/torch/nn/modules/__init__.py\", line 35, in <module>\n",
      "    from .transformer import TransformerEncoder, TransformerDecoder, \\\n",
      "  File \"/opt/miniconda3/envs/pyg_CUDA/lib/python3.11/site-packages/torch/nn/modules/transformer.py\", line 20, in <module>\n",
      "    device: torch.device = torch.device(torch._C._get_default_device()),  # torch.device('cpu'),\n",
      "/opt/miniconda3/envs/pyg_CUDA/lib/python3.11/site-packages/torch/nn/modules/transformer.py:20: UserWarning: Failed to initialize NumPy: _ARRAY_API not found (Triggered internally at /Users/runner/work/pytorch/pytorch/pytorch/torch/csrc/utils/tensor_numpy.cpp:84.)\n",
      "  device: torch.device = torch.device(torch._C._get_default_device()),  # torch.device('cpu'),\n"
     ]
    }
   ],
   "source": [
    "import torch\n",
    "\n",
    "def donor_recipient_network_creation(subject: Optional[pd.DataFrame] = None,\n",
    "                                     object: Optional[pd.DataFrame] = None,\n",
    "                                     link_col: Optional[str] = \"CASEID\") -> nx.Graph:\n",
    "    r\"\"\"\n",
    "    Creates donor-recipient network. \n",
    "\n",
    "    ARGS: \n",
    "        subject: node 1 (feature matrix in pd.dataframe of initial node, node1 x feature)\n",
    "        predicate: edge label\n",
    "        object: node 2 (feature matrix in pd.dataframe of target node, node2 x feature)\n",
    "        link_col: column that is shared between \n",
    "\n",
    "    RETURNS:\n",
    "        nx.Graph of  network\n",
    "    \"\"\" \n",
    "    print(\"------Constructing Donor-Recipient Network------\")\n",
    "    #make all the nodes into an index\n",
    "    subject_index = [i for i in range(len(subject))]\n",
    "    object_index = [i + (len(subject) - 1) for i in range(len(object))] #(subject starts at 0, so last index is len(subject) - 1\n",
    "    subject[\"NODE_ID\"] = subject_index\n",
    "    object[\"NODE_ID\"] = object_index\n",
    "\n",
    "    #create edge index\n",
    "    subject_index = []\n",
    "    object_index = []\n",
    "\n",
    "    #filter, so that lookup is < O(n^2)\n",
    "    shared_links = list(set(subject[link_col].tolist()) & set(object[link_col].tolist()))\n",
    "    subject_shared = subject[subject[link_col].isin(shared_links)].reset_index(drop=True)\n",
    "    object_shared = object[object[link_col].isin(shared_links)].reset_index(drop=True)\n",
    "    \n",
    "    #match donor to recipient, iterate through donors\n",
    "    for donor_i in tqdm(range(len(subject_shared)), desc = \"Donor-Recipient Matching\", bar_format='{l_bar}{bar:10}{r_bar}{bar:-10b}'):\n",
    "        for recipient_i in range(len(object_shared)):\n",
    "            caseid = subject_shared[link_col][donor_i]\n",
    "\n",
    "            if object_shared[link_col][recipient_i] == caseid:\n",
    "                #add edge to graph\n",
    "                subject_index.append(subject_shared[\"NODE_ID\"][donor_i])\n",
    "                object_index.append(object_shared[\"NODE_ID\"][recipient_i])\n",
    "\n",
    "    edge_index = torch.LongTensor(np.array([subject_index, object_index]))\n",
    "    edge_type = torch.LongTensor(np.array([0 for i in range(len(subject))]))\n",
    "    edge_weight = torch.LongTensor(np.array([1 for i in range(len(subject))]))\n",
    "\n",
    "    #stats\n",
    "    print(\"Donor-Recipient Network Statistics:\")\n",
    "    print(\"\\tnodes:\", edge_index.shape[1] * 2)\n",
    "    print(\"\\tedges:\", edge_index.shape[1])\n",
    "    assert edge_index.shape[1] == len(shared_links)\n",
    "    return edge_index, edge_weight, edge_type, subject, object"
   ]
  },
  {
   "cell_type": "code",
   "execution_count": 29,
   "metadata": {},
   "outputs": [],
   "source": [
    "# Load in dataset\n",
    "df = pd.read_csv(\"/Users/stevenswee/Desktop/BE M227/Processed_Data/encoded_recipient_donor_op_comp_df.csv\")"
   ]
  },
  {
   "cell_type": "code",
   "execution_count": 30,
   "metadata": {},
   "outputs": [
    {
     "name": "stderr",
     "output_type": "stream",
     "text": [
      "/var/folders/_j/j2sjmt9d463_99fblhh7k7540000gn/T/ipykernel_27535/2208675548.py:6: SettingWithCopyWarning: \n",
      "A value is trying to be set on a copy of a slice from a DataFrame\n",
      "\n",
      "See the caveats in the documentation: https://pandas.pydata.org/pandas-docs/stable/user_guide/indexing.html#returning-a-view-versus-a-copy\n",
      "  donor.rename(\n",
      "/var/folders/_j/j2sjmt9d463_99fblhh7k7540000gn/T/ipykernel_27535/2208675548.py:17: SettingWithCopyWarning: \n",
      "A value is trying to be set on a copy of a slice from a DataFrame.\n",
      "Try using .loc[row_indexer,col_indexer] = value instead\n",
      "\n",
      "See the caveats in the documentation: https://pandas.pydata.org/pandas-docs/stable/user_guide/indexing.html#returning-a-view-versus-a-copy\n",
      "  recipient[\"CASEID\"] = df[\"CASEID\"]\n"
     ]
    }
   ],
   "source": [
    "# Get donor features\n",
    "donor_cols = [col for col in df.columns if col.startswith(\"d_\") or col.startswith(\"dd_\")]\n",
    "donor = df[donor_cols]\n",
    "\n",
    "# Rename the columns by dropping the prefixes\n",
    "donor.rename(\n",
    "    columns={col: col.lstrip(\"d_\").lstrip(\"d_\") for col in donor_cols}, \n",
    "    inplace=True\n",
    ")\n",
    "\n",
    "# Find shared features between donor and recipient\n",
    "shared_columns = donor.columns\n",
    "shared_columns = [col for col in shared_columns if col in df.columns]\n",
    "\n",
    "# Filter for shared features\n",
    "recipient = df[shared_columns]\n",
    "recipient[\"CASEID\"] = df[\"CASEID\"]\n",
    "donor = donor[shared_columns]\n",
    "donor[\"CASEID\"] = df[\"CASEID\"]"
   ]
  },
  {
   "cell_type": "code",
   "execution_count": 31,
   "metadata": {},
   "outputs": [
    {
     "name": "stdout",
     "output_type": "stream",
     "text": [
      "------Constructing Donor-Recipient Network------\n"
     ]
    },
    {
     "name": "stderr",
     "output_type": "stream",
     "text": [
      "/var/folders/_j/j2sjmt9d463_99fblhh7k7540000gn/T/ipykernel_27535/2710516071.py:23: SettingWithCopyWarning: \n",
      "A value is trying to be set on a copy of a slice from a DataFrame.\n",
      "Try using .loc[row_indexer,col_indexer] = value instead\n",
      "\n",
      "See the caveats in the documentation: https://pandas.pydata.org/pandas-docs/stable/user_guide/indexing.html#returning-a-view-versus-a-copy\n",
      "  object[\"NODE_ID\"] = object_index\n",
      "/var/folders/_j/j2sjmt9d463_99fblhh7k7540000gn/T/ipykernel_27535/2710516071.py:35: TqdmDeprecationWarning: This function will be removed in tqdm==5.0.0\n",
      "Please use `tqdm.notebook.tqdm` instead of `tqdm.tqdm_notebook`\n",
      "  for donor_i in tqdm(range(len(subject_shared)), desc = \"Donor-Recipient Matching\", bar_format='{l_bar}{bar:10}{r_bar}{bar:-10b}'):\n"
     ]
    },
    {
     "data": {
      "application/vnd.jupyter.widget-view+json": {
       "model_id": "a104774ca8414be589fbb3ed7aa2dcc9",
       "version_major": 2,
       "version_minor": 0
      },
      "text/plain": [
       "Donor-Recipient Matching:   0%|          | 0/2354 [00:00<?, ?it/s]"
      ]
     },
     "metadata": {},
     "output_type": "display_data"
    },
    {
     "name": "stdout",
     "output_type": "stream",
     "text": [
      "Donor-Recipient Network Statistics:\n",
      "\tnodes: 4708\n",
      "\tedges: 2354\n"
     ]
    }
   ],
   "source": [
    "dr_edge_index, dr_edge_weight, dr_edge_type, subject, object = donor_recipient_network_creation(subject=donor, object = recipient)\n"
   ]
  }
 ],
 "metadata": {
  "kernelspec": {
   "display_name": "pyg_CUDA",
   "language": "python",
   "name": "python3"
  },
  "language_info": {
   "codemirror_mode": {
    "name": "ipython",
    "version": 3
   },
   "file_extension": ".py",
   "mimetype": "text/x-python",
   "name": "python",
   "nbconvert_exporter": "python",
   "pygments_lexer": "ipython3",
   "version": "3.11.10"
  }
 },
 "nbformat": 4,
 "nbformat_minor": 2
}
